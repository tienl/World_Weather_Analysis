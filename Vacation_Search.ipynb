{
 "cells": [
  {
   "cell_type": "code",
   "execution_count": 97,
   "metadata": {},
   "outputs": [],
   "source": [
    "# Import the dependencies.\n",
    "import pandas as pd\n",
    "import gmaps\n",
    "import requests\n",
    "# Import the API key.\n",
    "from config import g_key\n",
    "from config import weather_api_key\n",
    "# Configure gmaps to use your Google API key.\n",
    "gmaps.configure(api_key=g_key)"
   ]
  },
  {
   "cell_type": "code",
   "execution_count": 3,
   "metadata": {},
   "outputs": [
    {
     "data": {
      "text/html": [
       "<div>\n",
       "<style scoped>\n",
       "    .dataframe tbody tr th:only-of-type {\n",
       "        vertical-align: middle;\n",
       "    }\n",
       "\n",
       "    .dataframe tbody tr th {\n",
       "        vertical-align: top;\n",
       "    }\n",
       "\n",
       "    .dataframe thead th {\n",
       "        text-align: right;\n",
       "    }\n",
       "</style>\n",
       "<table border=\"1\" class=\"dataframe\">\n",
       "  <thead>\n",
       "    <tr style=\"text-align: right;\">\n",
       "      <th></th>\n",
       "      <th>City_ID</th>\n",
       "      <th>City</th>\n",
       "      <th>Lat</th>\n",
       "      <th>Lng</th>\n",
       "      <th>Max Temp</th>\n",
       "      <th>Weather Description</th>\n",
       "      <th>Rain</th>\n",
       "      <th>Snow</th>\n",
       "      <th>Humidity</th>\n",
       "      <th>Cloudiness</th>\n",
       "      <th>Wind Speed</th>\n",
       "      <th>Country</th>\n",
       "      <th>Date</th>\n",
       "    </tr>\n",
       "  </thead>\n",
       "  <tbody>\n",
       "    <tr>\n",
       "      <th>539</th>\n",
       "      <td>539</td>\n",
       "      <td>Korla</td>\n",
       "      <td>41.76</td>\n",
       "      <td>86.15</td>\n",
       "      <td>73.99</td>\n",
       "      <td>overcast clouds</td>\n",
       "      <td>0.00</td>\n",
       "      <td>0</td>\n",
       "      <td>63</td>\n",
       "      <td>90</td>\n",
       "      <td>16.08</td>\n",
       "      <td>CN</td>\n",
       "      <td>2020-06-19 01:49:37</td>\n",
       "    </tr>\n",
       "    <tr>\n",
       "      <th>540</th>\n",
       "      <td>540</td>\n",
       "      <td>Mmabatho</td>\n",
       "      <td>-25.85</td>\n",
       "      <td>25.63</td>\n",
       "      <td>37.40</td>\n",
       "      <td>clear sky</td>\n",
       "      <td>0.00</td>\n",
       "      <td>0</td>\n",
       "      <td>60</td>\n",
       "      <td>0</td>\n",
       "      <td>4.70</td>\n",
       "      <td>ZA</td>\n",
       "      <td>2020-06-19 01:49:37</td>\n",
       "    </tr>\n",
       "    <tr>\n",
       "      <th>541</th>\n",
       "      <td>541</td>\n",
       "      <td>Huangpi</td>\n",
       "      <td>30.88</td>\n",
       "      <td>114.38</td>\n",
       "      <td>75.20</td>\n",
       "      <td>scattered clouds</td>\n",
       "      <td>0.00</td>\n",
       "      <td>0</td>\n",
       "      <td>83</td>\n",
       "      <td>40</td>\n",
       "      <td>2.24</td>\n",
       "      <td>CN</td>\n",
       "      <td>2020-06-19 01:49:37</td>\n",
       "    </tr>\n",
       "    <tr>\n",
       "      <th>542</th>\n",
       "      <td>542</td>\n",
       "      <td>Loknya</td>\n",
       "      <td>56.83</td>\n",
       "      <td>30.15</td>\n",
       "      <td>63.25</td>\n",
       "      <td>clear sky</td>\n",
       "      <td>0.00</td>\n",
       "      <td>0</td>\n",
       "      <td>92</td>\n",
       "      <td>0</td>\n",
       "      <td>2.75</td>\n",
       "      <td>RU</td>\n",
       "      <td>2020-06-19 01:49:37</td>\n",
       "    </tr>\n",
       "    <tr>\n",
       "      <th>543</th>\n",
       "      <td>543</td>\n",
       "      <td>Shenjiamen</td>\n",
       "      <td>29.96</td>\n",
       "      <td>122.30</td>\n",
       "      <td>70.27</td>\n",
       "      <td>light rain</td>\n",
       "      <td>0.34</td>\n",
       "      <td>0</td>\n",
       "      <td>91</td>\n",
       "      <td>100</td>\n",
       "      <td>10.00</td>\n",
       "      <td>CN</td>\n",
       "      <td>2020-06-19 01:49:38</td>\n",
       "    </tr>\n",
       "  </tbody>\n",
       "</table>\n",
       "</div>"
      ],
      "text/plain": [
       "     City_ID        City    Lat     Lng  Max Temp Weather Description  Rain  \\\n",
       "539      539       Korla  41.76   86.15     73.99     overcast clouds  0.00   \n",
       "540      540    Mmabatho -25.85   25.63     37.40           clear sky  0.00   \n",
       "541      541     Huangpi  30.88  114.38     75.20    scattered clouds  0.00   \n",
       "542      542      Loknya  56.83   30.15     63.25           clear sky  0.00   \n",
       "543      543  Shenjiamen  29.96  122.30     70.27          light rain  0.34   \n",
       "\n",
       "     Snow  Humidity  Cloudiness  Wind Speed Country                 Date  \n",
       "539     0        63          90       16.08      CN  2020-06-19 01:49:37  \n",
       "540     0        60           0        4.70      ZA  2020-06-19 01:49:37  \n",
       "541     0        83          40        2.24      CN  2020-06-19 01:49:37  \n",
       "542     0        92           0        2.75      RU  2020-06-19 01:49:37  \n",
       "543     0        91         100       10.00      CN  2020-06-19 01:49:38  "
      ]
     },
     "execution_count": 3,
     "metadata": {},
     "output_type": "execute_result"
    }
   ],
   "source": [
    "# Store the CSV you saved created in part one into a DataFrame.\n",
    "city_data_df = pd.read_csv(\"WeatherPy_database.csv\")\n",
    "city_data_df.tail()"
   ]
  },
  {
   "cell_type": "code",
   "execution_count": 30,
   "metadata": {},
   "outputs": [
    {
     "name": "stdout",
     "output_type": "stream",
     "text": [
      "What is the minimum temperature you would like for your trip? 70\n",
      "What is the maximum temperature you would like for your trip? 80\n",
      "Do you want it to be raining? (yes/no) no\n",
      "Do you want it to be snowing? (yes/no) no\n"
     ]
    }
   ],
   "source": [
    "# Ask the customer and set their preferences for weather types\n",
    "# challenge objective \n",
    "min_temp = float(input(\"What is the minimum temperature you would like for your trip? \"))\n",
    "max_temp = float(input(\"What is the maximum temperature you would like for your trip? \"))\n",
    "rain_bool = input(\"Do you want it to be raining? (yes/no) \")\n",
    "snow_bool = input(\"Do you want it to be snowing? (yes/no) \")"
   ]
  },
  {
   "cell_type": "code",
   "execution_count": null,
   "metadata": {},
   "outputs": [],
   "source": []
  },
  {
   "cell_type": "code",
   "execution_count": 31,
   "metadata": {},
   "outputs": [],
   "source": [
    "# Filter the dataset to find the cities that fit the criteria.\n",
    "# using ifs, challenge objective \n",
    "if rain_bool == \"no\" and snow_bool == \"no\":\n",
    "    preferred_cities_df = city_data_df.loc[(city_data_df[\"Max Temp\"] <= max_temp) & \n",
    "                                           (city_data_df[\"Max Temp\"] >= min_temp) & \n",
    "                                           (city_data_df[\"Rain\"] == 0) & \n",
    "                                           (city_data_df[\"Snow\"] == 0)\n",
    "                                          ]\n",
    "elif rain_bool == \"yes\" and snow_bool == \"no\":\n",
    "    preferred_cities_df = city_data_df.loc[(city_data_df[\"Max Temp\"] <= max_temp) & \n",
    "                                           (city_data_df[\"Max Temp\"] >= min_temp) & \n",
    "                                           (city_data_df[\"Rain\"] > 0.0) & \n",
    "                                           (city_data_df[\"Snow\"] == 0)\n",
    "                                          ]\n",
    "elif rain_bool == \"no\" and snow_bool == \"yes\":\n",
    "    preferred_cities_df = city_data_df.loc[(city_data_df[\"Max Temp\"] <= max_temp) & \n",
    "                                           (city_data_df[\"Max Temp\"] >= min_temp) & \n",
    "                                           (city_data_df[\"Rain\"] == 0) & \n",
    "                                           (city_data_df[\"Snow\"] > 0.0)\n",
    "                                          ]\n",
    "else:\n",
    "    preferred_cities_df = city_data_df.loc[(city_data_df[\"Max Temp\"] <= max_temp) & \n",
    "                                           (city_data_df[\"Max Temp\"] >= min_temp) & \n",
    "                                           (city_data_df[\"Rain\"] > 0.0) & \n",
    "                                           (city_data_df[\"Snow\"] > 0.0)\n",
    "                                          ]\n",
    "    "
   ]
  },
  {
   "cell_type": "code",
   "execution_count": 38,
   "metadata": {},
   "outputs": [],
   "source": [
    "#drop cities when any field still has na \n",
    "preferred_cities_df = preferred_cities_df.dropna()"
   ]
  },
  {
   "cell_type": "code",
   "execution_count": 98,
   "metadata": {},
   "outputs": [],
   "source": [
    "# Create DataFrame called hotel_df to store hotel names along with city, country, max temp, and coordinates.\n",
    "hotel_df = preferred_cities_df[[\"City\", \"Country\", \"Max Temp\", \"Lat\", \"Lng\", \"Weather Description\"]].copy()\n",
    "hotel_df[\"Hotel Name\"] = \"\""
   ]
  },
  {
   "cell_type": "code",
   "execution_count": 42,
   "metadata": {},
   "outputs": [],
   "source": [
    "# Set parameters to search for a hotel.\n",
    "params = {\n",
    "    \"radius\": 5000,\n",
    "    \"type\": \"lodging\",\n",
    "    \"key\": g_key}"
   ]
  },
  {
   "cell_type": "code",
   "execution_count": 43,
   "metadata": {},
   "outputs": [
    {
     "name": "stdout",
     "output_type": "stream",
     "text": [
      "Hotel not found... skipping.\n",
      "Hotel not found... skipping.\n",
      "Hotel not found... skipping.\n",
      "Hotel not found... skipping.\n",
      "Hotel not found... skipping.\n",
      "Hotel not found... skipping.\n",
      "Hotel not found... skipping.\n",
      "Hotel not found... skipping.\n",
      "Hotel not found... skipping.\n",
      "Hotel not found... skipping.\n",
      "Hotel not found... skipping.\n",
      "Hotel not found... skipping.\n"
     ]
    }
   ],
   "source": [
    "# Iterate through the DataFrame.\n",
    "for index, row in hotel_df.iterrows():\n",
    "    # Get the latitude and longitude.\n",
    "    lat = row[\"Lat\"]\n",
    "    lng = row[\"Lng\"]\n",
    "\n",
    "    # Add the latitude and longitude to location key for the params dictionary.\n",
    "    params[\"location\"] = f\"{lat},{lng}\"\n",
    "\n",
    "    # Use the search term: \"lodging\" and our latitude and longitude.\n",
    "    base_url = \"https://maps.googleapis.com/maps/api/place/nearbysearch/json\"\n",
    "    \n",
    "    # Make request and get the JSON data from the search.\n",
    "    hotels = requests.get(base_url, params=params).json()\n",
    "    # Grab the first hotel from the results and store the name.\n",
    "    try:\n",
    "        hotel_df.loc[index, \"Hotel Name\"] = hotels[\"results\"][0][\"name\"]\n",
    "    except (IndexError):\n",
    "        print(\"Hotel not found... skipping.\")"
   ]
  },
  {
   "cell_type": "code",
   "execution_count": null,
   "metadata": {},
   "outputs": [],
   "source": []
  },
  {
   "cell_type": "code",
   "execution_count": 47,
   "metadata": {},
   "outputs": [],
   "source": [
    "# challenge objective, save the dataframe into a file\n",
    "# Create the output file (CSV).\n",
    "output_data_file = \"WeatherPy_vacation.csv\"\n",
    "# Export the City_Data into a CSV.\n",
    "hotel_df.to_csv(output_data_file, index_label=\"Hotel_ID\")"
   ]
  },
  {
   "cell_type": "code",
   "execution_count": 94,
   "metadata": {},
   "outputs": [],
   "source": [
    "info_box_template = \"\"\"\n",
    "<dl>\n",
    "<dt>Hotel Name</dt><dd>{Hotel Name}</dd>\n",
    "<dt>City</dt><dd>{City}</dd>\n",
    "<dt>Country</dt><dd>{Country}</dd>\n",
    "<dt>Current Weather</dt><dd>{Weather Description} {Max Temp} °F</dd>\n",
    "</dl>\n",
    "\"\"\""
   ]
  },
  {
   "cell_type": "code",
   "execution_count": 93,
   "metadata": {},
   "outputs": [],
   "source": [
    "# Store the DataFrame Row.\n",
    "hotel_info = [info_box_template.format(**row) for index, row in hotel_df.iterrows()]"
   ]
  },
  {
   "cell_type": "code",
   "execution_count": 96,
   "metadata": {},
   "outputs": [
    {
     "data": {
      "application/vnd.jupyter.widget-view+json": {
       "model_id": "a926364c9b524741b7886d53dcda9193",
       "version_major": 2,
       "version_minor": 0
      },
      "text/plain": [
       "Figure(layout=FigureLayout(height='420px'))"
      ]
     },
     "metadata": {},
     "output_type": "display_data"
    }
   ],
   "source": [
    "# Marker layer map for vacation spots.\n",
    "locations = hotel_df[[\"Lat\", \"Lng\"]]\n",
    "marker_layer = gmaps.marker_layer(locations, info_box_content=hotel_info)\n",
    "fig = gmaps.figure(center=(30.0, 31.0), zoom_level=1.5)\n",
    "fig.add_layer(marker_layer)\n",
    "\n",
    "# Call the figure to plot the data.\n",
    "fig\n"
   ]
  },
  {
   "cell_type": "code",
   "execution_count": null,
   "metadata": {},
   "outputs": [],
   "source": []
  }
 ],
 "metadata": {
  "kernelspec": {
   "display_name": "Python 3",
   "language": "python",
   "name": "python3"
  },
  "language_info": {
   "codemirror_mode": {
    "name": "ipython",
    "version": 3
   },
   "file_extension": ".py",
   "mimetype": "text/x-python",
   "name": "python",
   "nbconvert_exporter": "python",
   "pygments_lexer": "ipython3",
   "version": "3.8.3"
  }
 },
 "nbformat": 4,
 "nbformat_minor": 4
}
